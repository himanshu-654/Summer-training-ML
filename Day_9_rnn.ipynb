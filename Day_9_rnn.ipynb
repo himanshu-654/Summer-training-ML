{
  "nbformat": 4,
  "nbformat_minor": 0,
  "metadata": {
    "colab": {
      "name": "Day 9 rnn.ipynb",
      "provenance": [],
      "collapsed_sections": []
    },
    "kernelspec": {
      "name": "python3",
      "display_name": "Python 3"
    }
  },
  "cells": [
    {
      "cell_type": "markdown",
      "metadata": {
        "id": "xpAuMVCwfWs8"
      },
      "source": [
        "# Recurrent Neural Network"
      ]
    },
    {
      "cell_type": "markdown",
      "metadata": {
        "id": "nxJfRe4bfYVA"
      },
      "source": [
        "## Part 1 - Data Preprocessing"
      ]
    },
    {
      "cell_type": "markdown",
      "metadata": {
        "id": "ir9zwETrfbrp"
      },
      "source": [
        "### Importing the libraries"
      ]
    },
    {
      "cell_type": "code",
      "metadata": {
        "id": "ZT1f24vHffuf"
      },
      "source": [
        "import numpy as np\n",
        "import matplotlib.pyplot as plt\n",
        "import pandas as pd"
      ],
      "execution_count": 1,
      "outputs": []
    },
    {
      "cell_type": "markdown",
      "metadata": {
        "id": "nQ47JAxrgmaL"
      },
      "source": [
        "### Importing the training set"
      ]
    },
    {
      "cell_type": "code",
      "metadata": {
        "id": "1xiv3pJOgqY3"
      },
      "source": [
        "dataset_train = pd.read_csv('/content/sample_data/Google_Stock_Price_Train.csv')\n",
        "training_set = dataset_train.iloc[:, 1:2].values"
      ],
      "execution_count": 2,
      "outputs": []
    },
    {
      "cell_type": "markdown",
      "metadata": {
        "id": "HT8_2UJegtG5"
      },
      "source": [
        "### Feature Scaling"
      ]
    },
    {
      "cell_type": "code",
      "metadata": {
        "id": "OTrF2kR7gx9x"
      },
      "source": [
        "from sklearn.preprocessing import MinMaxScaler\n",
        "sc = MinMaxScaler(feature_range = (0, 1))\n",
        "training_set_scaled = sc.fit_transform(training_set)"
      ],
      "execution_count": 3,
      "outputs": []
    },
    {
      "cell_type": "markdown",
      "metadata": {
        "id": "JyYgYocqhNUg"
      },
      "source": [
        "### Creating a data structure with 60 timesteps and 1 output"
      ]
    },
    {
      "cell_type": "code",
      "metadata": {
        "id": "iofU21B0i6ST"
      },
      "source": [
        "X_train = []\n",
        "y_train = []\n",
        "for i in range(60, 1258):\n",
        "    X_train.append(training_set_scaled[i-60:i, 0])\n",
        "    y_train.append(training_set_scaled[i, 0])\n",
        "X_train, y_train = np.array(X_train), np.array(y_train)"
      ],
      "execution_count": 4,
      "outputs": []
    },
    {
      "cell_type": "markdown",
      "metadata": {
        "id": "D8yaN7Zvi95l"
      },
      "source": [
        "### Reshaping"
      ]
    },
    {
      "cell_type": "code",
      "metadata": {
        "id": "FOXqJHmNjBkz"
      },
      "source": [
        "X_train = np.reshape(X_train, (X_train.shape[0], X_train.shape[1], 1))"
      ],
      "execution_count": 5,
      "outputs": []
    },
    {
      "cell_type": "markdown",
      "metadata": {
        "id": "ZRRSOJeVjEWV"
      },
      "source": [
        "## Part 2 - Building and Training the RNN"
      ]
    },
    {
      "cell_type": "markdown",
      "metadata": {
        "id": "k4XV88JMjHXG"
      },
      "source": [
        "### Importing the Keras libraries and packages"
      ]
    },
    {
      "cell_type": "code",
      "metadata": {
        "id": "9JRnqsxEjKsD"
      },
      "source": [
        "from keras.models import Sequential\n",
        "from keras.layers import Dense\n",
        "from keras.layers import LSTM\n",
        "from keras.layers import Dropout"
      ],
      "execution_count": 6,
      "outputs": []
    },
    {
      "cell_type": "markdown",
      "metadata": {
        "id": "FEIE-1s9jNzC"
      },
      "source": [
        "### Initialising the RNN"
      ]
    },
    {
      "cell_type": "code",
      "metadata": {
        "id": "1338dJ0UjRKH"
      },
      "source": [
        "regressor = Sequential()"
      ],
      "execution_count": 7,
      "outputs": []
    },
    {
      "cell_type": "markdown",
      "metadata": {
        "id": "62eg1OPGjT8z"
      },
      "source": [
        "### Adding the first LSTM layer and some Dropout regularisation"
      ]
    },
    {
      "cell_type": "code",
      "metadata": {
        "id": "2hIinyXUjbVU"
      },
      "source": [
        "regressor.add(LSTM(units = 50, return_sequences = True, input_shape = (X_train.shape[1], 1)))\n",
        "regressor.add(Dropout(0.2))"
      ],
      "execution_count": 8,
      "outputs": []
    },
    {
      "cell_type": "markdown",
      "metadata": {
        "id": "3XBIYLyOjlMx"
      },
      "source": [
        "### Adding a second LSTM layer and some Dropout regularisation"
      ]
    },
    {
      "cell_type": "code",
      "metadata": {
        "id": "UG7nrVaSjuZ2"
      },
      "source": [
        "regressor.add(LSTM(units = 50, return_sequences = True))\n",
        "regressor.add(Dropout(0.2))"
      ],
      "execution_count": 9,
      "outputs": []
    },
    {
      "cell_type": "markdown",
      "metadata": {
        "id": "Ey3fHVnGj1cu"
      },
      "source": [
        "### Adding a third LSTM layer and some Dropout regularisation"
      ]
    },
    {
      "cell_type": "code",
      "metadata": {
        "id": "PuNi6PgFj7jO"
      },
      "source": [
        "regressor.add(LSTM(units = 50, return_sequences = True))\n",
        "regressor.add(Dropout(0.2))"
      ],
      "execution_count": 10,
      "outputs": []
    },
    {
      "cell_type": "markdown",
      "metadata": {
        "id": "SYTrtfTmj933"
      },
      "source": [
        "### Adding a fourth LSTM layer and some Dropout regularisation"
      ]
    },
    {
      "cell_type": "code",
      "metadata": {
        "id": "Jp4Ty8fRkBYV"
      },
      "source": [
        "regressor.add(LSTM(units = 50))\n",
        "regressor.add(Dropout(0.2))"
      ],
      "execution_count": 11,
      "outputs": []
    },
    {
      "cell_type": "markdown",
      "metadata": {
        "id": "9ABI6rOIkHhk"
      },
      "source": [
        "### Adding the output layer"
      ]
    },
    {
      "cell_type": "code",
      "metadata": {
        "id": "aM6R1z4WkME8"
      },
      "source": [
        "regressor.add(Dense(units = 1))"
      ],
      "execution_count": 12,
      "outputs": []
    },
    {
      "cell_type": "markdown",
      "metadata": {
        "id": "zLx4K7uUkPSh"
      },
      "source": [
        "### Compiling the RNN"
      ]
    },
    {
      "cell_type": "code",
      "metadata": {
        "id": "XTrhVN-tkbko"
      },
      "source": [
        "regressor.compile(optimizer = 'adam', loss = 'mean_squared_error')"
      ],
      "execution_count": 13,
      "outputs": []
    },
    {
      "cell_type": "markdown",
      "metadata": {
        "id": "-mPhwKGkkebi"
      },
      "source": [
        "### Fitting the RNN to the Training set"
      ]
    },
    {
      "cell_type": "code",
      "metadata": {
        "id": "I06Nkrz5kkb-",
        "colab": {
          "base_uri": "https://localhost:8080/"
        },
        "outputId": "feb52e80-9af9-4ae4-be50-22352ad369af"
      },
      "source": [
        "regressor.fit(X_train, y_train, epochs = 50, batch_size = 16)"
      ],
      "execution_count": 18,
      "outputs": [
        {
          "output_type": "stream",
          "name": "stdout",
          "text": [
            "Epoch 1/50\n",
            "75/75 [==============================] - 9s 120ms/step - loss: 0.0015\n",
            "Epoch 2/50\n",
            "75/75 [==============================] - 9s 120ms/step - loss: 0.0018\n",
            "Epoch 3/50\n",
            "75/75 [==============================] - 10s 127ms/step - loss: 0.0016\n",
            "Epoch 4/50\n",
            "75/75 [==============================] - 10s 134ms/step - loss: 0.0016\n",
            "Epoch 5/50\n",
            "75/75 [==============================] - 9s 122ms/step - loss: 0.0017\n",
            "Epoch 6/50\n",
            "75/75 [==============================] - 9s 119ms/step - loss: 0.0014\n",
            "Epoch 7/50\n",
            "75/75 [==============================] - 9s 119ms/step - loss: 0.0015\n",
            "Epoch 8/50\n",
            "75/75 [==============================] - 9s 120ms/step - loss: 0.0015\n",
            "Epoch 9/50\n",
            "75/75 [==============================] - 9s 120ms/step - loss: 0.0013\n",
            "Epoch 10/50\n",
            "75/75 [==============================] - 9s 118ms/step - loss: 0.0014\n",
            "Epoch 11/50\n",
            "75/75 [==============================] - 9s 118ms/step - loss: 0.0015\n",
            "Epoch 12/50\n",
            "75/75 [==============================] - 9s 120ms/step - loss: 0.0015\n",
            "Epoch 13/50\n",
            "75/75 [==============================] - 9s 120ms/step - loss: 0.0014\n",
            "Epoch 14/50\n",
            "75/75 [==============================] - 9s 118ms/step - loss: 0.0013\n",
            "Epoch 15/50\n",
            "75/75 [==============================] - 9s 120ms/step - loss: 0.0013\n",
            "Epoch 16/50\n",
            "75/75 [==============================] - 10s 131ms/step - loss: 0.0015\n",
            "Epoch 17/50\n",
            "75/75 [==============================] - 9s 121ms/step - loss: 0.0018\n",
            "Epoch 18/50\n",
            "75/75 [==============================] - 9s 119ms/step - loss: 0.0014\n",
            "Epoch 19/50\n",
            "75/75 [==============================] - 9s 119ms/step - loss: 0.0013\n",
            "Epoch 20/50\n",
            "75/75 [==============================] - 9s 120ms/step - loss: 0.0012\n",
            "Epoch 21/50\n",
            "75/75 [==============================] - 9s 120ms/step - loss: 0.0015\n",
            "Epoch 22/50\n",
            "75/75 [==============================] - 9s 121ms/step - loss: 0.0013\n",
            "Epoch 23/50\n",
            "75/75 [==============================] - 9s 119ms/step - loss: 0.0014\n",
            "Epoch 24/50\n",
            "75/75 [==============================] - 9s 119ms/step - loss: 0.0014\n",
            "Epoch 25/50\n",
            "75/75 [==============================] - 9s 116ms/step - loss: 0.0012\n",
            "Epoch 26/50\n",
            "75/75 [==============================] - 8s 105ms/step - loss: 0.0013\n",
            "Epoch 27/50\n",
            "75/75 [==============================] - 8s 104ms/step - loss: 0.0012\n",
            "Epoch 28/50\n",
            "75/75 [==============================] - 8s 104ms/step - loss: 0.0014\n",
            "Epoch 29/50\n",
            "75/75 [==============================] - 8s 104ms/step - loss: 0.0013\n",
            "Epoch 30/50\n",
            "75/75 [==============================] - 8s 105ms/step - loss: 0.0012\n",
            "Epoch 31/50\n",
            "75/75 [==============================] - 8s 104ms/step - loss: 0.0013\n",
            "Epoch 32/50\n",
            "75/75 [==============================] - 8s 105ms/step - loss: 0.0012\n",
            "Epoch 33/50\n",
            "75/75 [==============================] - 8s 105ms/step - loss: 0.0014\n",
            "Epoch 34/50\n",
            "75/75 [==============================] - 8s 106ms/step - loss: 0.0012\n",
            "Epoch 35/50\n",
            "75/75 [==============================] - 8s 105ms/step - loss: 0.0011\n",
            "Epoch 36/50\n",
            "75/75 [==============================] - 8s 106ms/step - loss: 0.0012\n",
            "Epoch 37/50\n",
            "75/75 [==============================] - 8s 105ms/step - loss: 0.0011\n",
            "Epoch 38/50\n",
            "75/75 [==============================] - 8s 106ms/step - loss: 0.0012\n",
            "Epoch 39/50\n",
            "75/75 [==============================] - 8s 105ms/step - loss: 0.0011\n",
            "Epoch 40/50\n",
            "75/75 [==============================] - 8s 106ms/step - loss: 0.0013\n",
            "Epoch 41/50\n",
            "75/75 [==============================] - 8s 106ms/step - loss: 0.0011\n",
            "Epoch 42/50\n",
            "75/75 [==============================] - 8s 106ms/step - loss: 0.0013\n",
            "Epoch 43/50\n",
            "75/75 [==============================] - 8s 107ms/step - loss: 0.0012\n",
            "Epoch 44/50\n",
            "75/75 [==============================] - 8s 106ms/step - loss: 0.0012\n",
            "Epoch 45/50\n",
            "75/75 [==============================] - 8s 107ms/step - loss: 0.0012\n",
            "Epoch 46/50\n",
            "75/75 [==============================] - 8s 105ms/step - loss: 0.0015\n",
            "Epoch 47/50\n",
            "75/75 [==============================] - 8s 106ms/step - loss: 0.0012\n",
            "Epoch 48/50\n",
            "75/75 [==============================] - 8s 104ms/step - loss: 0.0012\n",
            "Epoch 49/50\n",
            "75/75 [==============================] - 8s 104ms/step - loss: 0.0011\n",
            "Epoch 50/50\n",
            "75/75 [==============================] - 8s 106ms/step - loss: 0.0013\n"
          ]
        },
        {
          "output_type": "execute_result",
          "data": {
            "text/plain": [
              "<keras.callbacks.History at 0x7fca83b4d950>"
            ]
          },
          "metadata": {},
          "execution_count": 18
        }
      ]
    },
    {
      "cell_type": "markdown",
      "metadata": {
        "id": "4hRau_lIkrE8"
      },
      "source": [
        "## Part 3 - Making the predictions and visualising the results"
      ]
    },
    {
      "cell_type": "markdown",
      "metadata": {
        "id": "SgJO6qEDksxD"
      },
      "source": [
        "### Getting the real stock price of 2017"
      ]
    },
    {
      "cell_type": "code",
      "metadata": {
        "id": "FmBT2zqukxTz"
      },
      "source": [
        "dataset_test = pd.read_csv('/content/sample_data/Google_Stock_Price_Test.csv')\n",
        "real_stock_price = dataset_test.iloc[:, 1:2].values"
      ],
      "execution_count": 15,
      "outputs": []
    },
    {
      "cell_type": "markdown",
      "metadata": {
        "id": "GrvrLblxkz42"
      },
      "source": [
        "### Getting the predicted stock price of 2017"
      ]
    },
    {
      "cell_type": "code",
      "metadata": {
        "id": "emikTvUpk3Ck"
      },
      "source": [
        "dataset_total = pd.concat((dataset_train['Open'], dataset_test['Open']), axis = 0)\n",
        "inputs = dataset_total[len(dataset_total) - len(dataset_test) - 60:].values\n",
        "inputs = inputs.reshape(-1,1)\n",
        "inputs = sc.transform(inputs)\n",
        "X_test = []\n",
        "for i in range(60, 80):\n",
        "    X_test.append(inputs[i-60:i, 0])\n",
        "X_test = np.array(X_test)\n",
        "X_test = np.reshape(X_test, (X_test.shape[0], X_test.shape[1], 1))\n",
        "predicted_stock_price = regressor.predict(X_test)\n",
        "predicted_stock_price = sc.inverse_transform(predicted_stock_price)"
      ],
      "execution_count": 16,
      "outputs": []
    },
    {
      "cell_type": "markdown",
      "metadata": {
        "id": "iFTNs3YHk6FQ"
      },
      "source": [
        "### Visualising the results"
      ]
    },
    {
      "cell_type": "code",
      "metadata": {
        "id": "8OUI8U49k9tH",
        "colab": {
          "base_uri": "https://localhost:8080/",
          "height": 295
        },
        "outputId": "50ab0528-d5c7-4205-c1e9-144fd778f880"
      },
      "source": [
        "plt.plot(real_stock_price, color = 'red', label = 'Real Google Stock Price')\n",
        "plt.plot(predicted_stock_price, color = 'blue', label = 'Predicted Google Stock Price')\n",
        "plt.title('Google Stock Price Prediction')\n",
        "plt.xlabel('Time')\n",
        "plt.ylabel('Google Stock Price')\n",
        "plt.legend()\n",
        "plt.show()"
      ],
      "execution_count": 17,
      "outputs": [
        {
          "output_type": "display_data",
          "data": {
            "text/plain": [
              "<Figure size 432x288 with 1 Axes>"
            ],
            "image/png": "[encoded data removed]"
          },
          "metadata": {
            "needs_background": "light"
          }
        }
      ]
    }
  ]
}